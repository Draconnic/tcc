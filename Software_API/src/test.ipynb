{
 "cells": [
  {
   "cell_type": "code",
   "execution_count": 5,
   "metadata": {},
   "outputs": [],
   "source": [
    "import smtplib\n",
    "from email.mime.text import MIMEText\n",
    "from email.mime.multipart import MIMEMultipart\n",
    "from smtplib import SMTPAuthenticationError\n"
   ]
  },
  {
   "cell_type": "code",
   "execution_count": 6,
   "metadata": {},
   "outputs": [],
   "source": [
    "class Email:\n",
    "    def __init__(self, sender_email, sender_password, smtp_server, smtp_port):\n",
    "        self.sender_email = sender_email\n",
    "        self.sender_password = sender_password\n",
    "        self.smtp_server = smtp_server\n",
    "        self.smtp_port = smtp_port\n",
    "        self._recipient = None\n",
    "        self._subject = None\n",
    "        self._body = None\n",
    "        self.message = MIMEMultipart()\n",
    "\n",
    "    @property\n",
    "    def recipient(self):\n",
    "        return self._recipient\n",
    "\n",
    "    @recipient.setter\n",
    "    def recipient(self, to):\n",
    "        self._recipient = to\n",
    "        self.message[\"To\"] = to\n",
    "\n",
    "    @property\n",
    "    def subject(self):\n",
    "        return self._subject\n",
    "\n",
    "    @subject.setter\n",
    "    def subject(self, subject):\n",
    "        self._subject = subject\n",
    "        self.message[\"Subject\"] = subject\n",
    "\n",
    "    @property\n",
    "    def body(self):\n",
    "        return self._body\n",
    "\n",
    "    @body.setter\n",
    "    def body(self, body):\n",
    "        self._body = body\n",
    "        self.message.attach(MIMEText(body, \"plain\"))\n",
    "\n",
    "    def send_email(self):\n",
    "        try:\n",
    "            with smtplib.SMTP(self.smtp_server, self.smtp_port) as smtp_server:\n",
    "                smtp_server.starttls()\n",
    "                smtp_server.login(self.sender_email, self.sender_password)\n",
    "                smtp_server.send_message(self.message)\n",
    "            return 200\n",
    "        except SMTPAuthenticationError:\n",
    "            return 500"
   ]
  },
  {
   "cell_type": "code",
   "execution_count": 13,
   "metadata": {},
   "outputs": [
    {
     "data": {
      "text/plain": [
       "200"
      ]
     },
     "execution_count": 13,
     "metadata": {},
     "output_type": "execute_result"
    }
   ],
   "source": [
    "# Example usage\n",
    "sender_email = \"tcc@gobbo.net\"\n",
    "sender_password = \"YLalw8izUZPYNONNAeJq\"\n",
    "smtp_server = \"smtp.gmail.com\"\n",
    "smtp_port = 587\n",
    "\n",
    "email = Email(sender_email, sender_password, smtp_server, smtp_port)\n",
    "email.recipient = \"geno.sans04@gmail.com\"\n",
    "email.subject = \"LINDO\"\n",
    "email.body = \"\"\"\n",
    "Tudo começou em um porão, 4 amigos e um plano! \n",
    "+ > Dione Juliano, Zed, Ospe. \n",
    "eles todos estavam contra...\n",
    "O grande ditador GoiabinhaEX\n",
    "Goiaba sempre usurpou de seu poder ao máximo, banindo campeões que não deriva e banindo seus amigos da call só por prazer próprio, mas isso vai chegar ao fim. Eles bolaram um plano infalível que até um governador cruel cairá e se submeteria aos 4 revolucionários, \n",
    "Dione o grande hacker criou o início do plano banindo todos aqueles que apoiam-se ao ditador maléfico, Zed criou o refugio para os desabrigados da guerra ,  e Juliano eles seriam que informariam os outros desamparados nesse turbilhão e mostrariam o caminho do anarquismo o caminho da LUZ, assim não existirá mais nenhuma pessoa que abuse de seus poderes.\n",
    "\"\"\"\n",
    "email.send_email()"
   ]
  },
  {
   "cell_type": "code",
   "execution_count": 8,
   "metadata": {},
   "outputs": [],
   "source": [
    "x = {'type': 'ESP', 'chip_id': '1640E0', 'machine_id': None, 'company': 'finetornos'}"
   ]
  },
  {
   "cell_type": "code",
   "execution_count": 9,
   "metadata": {},
   "outputs": [
    {
     "data": {
      "text/plain": [
       "'ESP'"
      ]
     },
     "execution_count": 9,
     "metadata": {},
     "output_type": "execute_result"
    }
   ],
   "source": [
    "x['type']"
   ]
  }
 ],
 "metadata": {
  "kernelspec": {
   "display_name": "venv",
   "language": "python",
   "name": "python3"
  },
  "language_info": {
   "codemirror_mode": {
    "name": "ipython",
    "version": 3
   },
   "file_extension": ".py",
   "mimetype": "text/x-python",
   "name": "python",
   "nbconvert_exporter": "python",
   "pygments_lexer": "ipython3",
   "version": "3.10.1"
  },
  "orig_nbformat": 4
 },
 "nbformat": 4,
 "nbformat_minor": 2
}
